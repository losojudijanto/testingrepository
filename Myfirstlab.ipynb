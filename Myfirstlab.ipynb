{
 "cells": [
  {
   "cell_type": "markdown",
   "id": "bddb1ba4-2c63-419b-a739-132d3eb985af",
   "metadata": {},
   "source": [
    "My Jupyter Notebook on IBM Watson Studio"
   ]
  },
  {
   "cell_type": "markdown",
   "id": "3d2f3c0a-b960-4495-a644-01b5afb0b89e",
   "metadata": {},
   "source": [
    "# My Jupyter Notebook on IBM Watson Studio"
   ]
  },
  {
   "cell_type": "markdown",
   "id": "2ff2581d-14a3-4c16-8272-89152a473791",
   "metadata": {},
   "source": [
    "**Loso Judijanto, Public Policy Analyst**"
   ]
  },
  {
   "cell_type": "markdown",
   "id": "ac914798-a50f-466d-9e34-9968ade382cf",
   "metadata": {},
   "source": [
    "*I am interested in data science because it is very helpful in solving various problems using data systematically*"
   ]
  },
  {
   "cell_type": "markdown",
   "id": "02d4e87c-42d9-4e04-9128-14143b3b2a0d",
   "metadata": {},
   "source": [
    "### It is a mathematical operation"
   ]
  },
  {
   "cell_type": "code",
   "execution_count": 2,
   "id": "73cc93c0-f27b-470b-859e-dd9f844afc90",
   "metadata": {},
   "outputs": [
    {
     "data": {
      "text/plain": [
       "4"
      ]
     },
     "execution_count": 2,
     "metadata": {},
     "output_type": "execute_result"
    }
   ],
   "source": [
    "1+3"
   ]
  },
  {
   "cell_type": "markdown",
   "id": "3cc47a32-94b9-4815-9cc2-fb8e3cb0d1c9",
   "metadata": {},
   "source": [
    "* Apple\n",
    "* Banana\n",
    "* Mango\n",
    "* Papaya\n",
    "* Jackfruit\n",
    "\n",
    "1. The Netherlands\n",
    "2. The Phillipines\n",
    "3. Japan\n",
    "4. India\n",
    "5. Egypt\n",
    "\n",
    "***\n",
    "This is between important horizontal lines\n",
    "***\n",
    "\n",
    "`Here is a highlighted line`"
   ]
  },
  {
   "cell_type": "code",
   "execution_count": null,
   "id": "9ac8075a-7fb4-4f33-925c-0378e7ff1973",
   "metadata": {},
   "outputs": [],
   "source": []
  }
 ],
 "metadata": {
  "kernelspec": {
   "display_name": "Python",
   "language": "python",
   "name": "conda-env-python-py"
  },
  "language_info": {
   "codemirror_mode": {
    "name": "ipython",
    "version": 3
   },
   "file_extension": ".py",
   "mimetype": "text/x-python",
   "name": "python",
   "nbconvert_exporter": "python",
   "pygments_lexer": "ipython3",
   "version": "3.7.12"
  }
 },
 "nbformat": 4,
 "nbformat_minor": 5
}
